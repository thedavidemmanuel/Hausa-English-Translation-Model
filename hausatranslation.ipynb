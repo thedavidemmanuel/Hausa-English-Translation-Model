{
 "cells": [
  {
   "cell_type": "markdown",
   "metadata": {},
   "source": [
    "# # English to Hausa Translation Model\n",
    "\n",
    "# This notebook demonstrates the development of an English to Hausa translation model using Recurrent Neural Networks (RNNs) with an attention mechanism. We'll walk through data preparation, preprocessing, model building, training, and evaluation."
   ]
  },
  {
   "cell_type": "markdown",
   "metadata": {},
   "source": [
    "Table of Contents\n",
    "# Table of Contents\n",
    "\n",
    "1. [Import Libraries](#import-libraries)\n",
    "2. [Load and Inspect Dataset](#load-and-inspect-dataset)\n",
    "3. [Data Cleaning and Preprocessing](#data-cleaning-and-preprocessing)\n",
    "4. [Tokenization and Sequence Padding](#tokenization-and-sequence-padding)\n",
    "5. [Train-Test Split](#train-test-split)\n",
    "6. [Model Building with Attention](#model-building-with-attention)\n",
    "7. [Model Training](#model-training)\n",
    "8. [Model Evaluation](#model-evaluation)\n",
    "9. [Conclusion and Future Work](#conclusion-and-future-work)\n"
   ]
  },
  {
   "cell_type": "markdown",
   "metadata": {},
   "source": [
    "1. Import Libraries\n",
    "We start by [importing the necessary libraries](#import-libraries) for data manipulation, model building, and evaluation."
   ]
  },
  {
   "cell_type": "code",
   "execution_count": 5,
   "metadata": {},
   "outputs": [],
   "source": [
    "import pandas as pd\n",
    "import numpy as np\n",
    "import matplotlib.pyplot as plt\n",
    "import re\n",
    "import string\n",
    "\n",
    "from sklearn.model_selection import train_test_split\n",
    "\n",
    "import tensorflow as tf\n",
    "from tensorflow.keras.preprocessing.text import Tokenizer\n",
    "from tensorflow.keras.preprocessing.sequence import pad_sequences\n",
    "from tensorflow.keras.models import Model\n",
    "from tensorflow.keras.layers import Input, LSTM, Dense, Embedding\n",
    "from tensorflow.keras.callbacks import EarlyStopping\n"
   ]
  },
  {
   "cell_type": "code",
   "execution_count": 6,
   "metadata": {},
   "outputs": [
    {
     "data": {
      "text/html": [
       "<div>\n",
       "<style scoped>\n",
       "    .dataframe tbody tr th:only-of-type {\n",
       "        vertical-align: middle;\n",
       "    }\n",
       "\n",
       "    .dataframe tbody tr th {\n",
       "        vertical-align: top;\n",
       "    }\n",
       "\n",
       "    .dataframe thead th {\n",
       "        text-align: right;\n",
       "    }\n",
       "</style>\n",
       "<table border=\"1\" class=\"dataframe\">\n",
       "  <thead>\n",
       "    <tr style=\"text-align: right;\">\n",
       "      <th></th>\n",
       "      <th>CleanedMainT</th>\n",
       "      <th>CleanedReplyT</th>\n",
       "      <th>Hausa2EngMainT</th>\n",
       "      <th>Hausa2EngReplyT</th>\n",
       "    </tr>\n",
       "  </thead>\n",
       "  <tbody>\n",
       "    <tr>\n",
       "      <th>0</th>\n",
       "      <td>Jurgen Klopp ya lashe kyautar Fifa ta gwarzon ...</td>\n",
       "      <td>Abunda ya faru tun last week</td>\n",
       "      <td>Jurgen Klopp has won the Fifa World Coach of t...</td>\n",
       "      <td>It's been a while since last week</td>\n",
       "    </tr>\n",
       "    <tr>\n",
       "      <th>1</th>\n",
       "      <td>Jurgen Klopp ya lashe kyautar Fifa ta gwarzon ...</td>\n",
       "      <td>Ku sai yanzu ku ke sawa news</td>\n",
       "      <td>Jurgen Klopp has won the Fifa World Coach of t...</td>\n",
       "      <td>You are now wearing news</td>\n",
       "    </tr>\n",
       "    <tr>\n",
       "      <th>3</th>\n",
       "      <td>Ƴan bindiga sun kashe mutum da ƙona buhunan ma...</td>\n",
       "      <td>Allah ya isa tsakaninmu da duk wanda yake da s...</td>\n",
       "      <td>Gunmen kill man and burn sacks of maize in Kaduna</td>\n",
       "      <td>May Allah reach between us and all those who a...</td>\n",
       "    </tr>\n",
       "    <tr>\n",
       "      <th>4</th>\n",
       "      <td>Ƴan bindiga sun kashe mutum da ƙona buhunan ma...</td>\n",
       "      <td>Innalillahi wa innailaihi rajiun. Wannan kasar...</td>\n",
       "      <td>Gunmen kill man and burn sacks of maize in Kaduna</td>\n",
       "      <td>Innalillahi wa innailaihi rajiun. This country...</td>\n",
       "    </tr>\n",
       "    <tr>\n",
       "      <th>5</th>\n",
       "      <td>Ƴan bindiga sun kashe mutum da ƙona buhunan ma...</td>\n",
       "      <td>Subhnallah</td>\n",
       "      <td>Gunmen kill man and burn sacks of maize in Kaduna</td>\n",
       "      <td>Subhnallah</td>\n",
       "    </tr>\n",
       "  </tbody>\n",
       "</table>\n",
       "</div>"
      ],
      "text/plain": [
       "                                        CleanedMainT  \\\n",
       "0  Jurgen Klopp ya lashe kyautar Fifa ta gwarzon ...   \n",
       "1  Jurgen Klopp ya lashe kyautar Fifa ta gwarzon ...   \n",
       "3  Ƴan bindiga sun kashe mutum da ƙona buhunan ma...   \n",
       "4  Ƴan bindiga sun kashe mutum da ƙona buhunan ma...   \n",
       "5  Ƴan bindiga sun kashe mutum da ƙona buhunan ma...   \n",
       "\n",
       "                                       CleanedReplyT  \\\n",
       "0                       Abunda ya faru tun last week   \n",
       "1                       Ku sai yanzu ku ke sawa news   \n",
       "3  Allah ya isa tsakaninmu da duk wanda yake da s...   \n",
       "4  Innalillahi wa innailaihi rajiun. Wannan kasar...   \n",
       "5                                         Subhnallah   \n",
       "\n",
       "                                      Hausa2EngMainT  \\\n",
       "0  Jurgen Klopp has won the Fifa World Coach of t...   \n",
       "1  Jurgen Klopp has won the Fifa World Coach of t...   \n",
       "3  Gunmen kill man and burn sacks of maize in Kaduna   \n",
       "4  Gunmen kill man and burn sacks of maize in Kaduna   \n",
       "5  Gunmen kill man and burn sacks of maize in Kaduna   \n",
       "\n",
       "                                     Hausa2EngReplyT  \n",
       "0                  It's been a while since last week  \n",
       "1                           You are now wearing news  \n",
       "3  May Allah reach between us and all those who a...  \n",
       "4  Innalillahi wa innailaihi rajiun. This country...  \n",
       "5                                         Subhnallah  "
      ]
     },
     "execution_count": 6,
     "metadata": {},
     "output_type": "execute_result"
    }
   ],
   "source": [
    "# Load the data\n",
    "data = pd.read_csv('data/parallel-hausa-tweets.csv')\n",
    "\n",
    "# Display the first few rows\n",
    "data.head()\n"
   ]
  },
  {
   "cell_type": "code",
   "execution_count": 7,
   "metadata": {},
   "outputs": [],
   "source": [
    "def clean_text(text):\n",
    "    # Convert to string if not already\n",
    "    text = str(text)\n",
    "    # Convert to lowercase\n",
    "    text = text.lower()\n",
    "    # Remove text in square brackets\n",
    "    text = re.sub(r'\\[.*?\\]', '', text)\n",
    "    # Remove punctuation\n",
    "    text = text.translate(str.maketrans('', '', string.punctuation))\n",
    "    # Remove numbers\n",
    "    text = re.sub(r'\\d+', '', text)\n",
    "    # Remove extra spaces\n",
    "    text = text.strip()\n",
    "    text = re.sub(r'\\s+', ' ', text)\n",
    "    return text\n"
   ]
  },
  {
   "cell_type": "code",
   "execution_count": 8,
   "metadata": {},
   "outputs": [
    {
     "data": {
      "text/html": [
       "<div>\n",
       "<style scoped>\n",
       "    .dataframe tbody tr th:only-of-type {\n",
       "        vertical-align: middle;\n",
       "    }\n",
       "\n",
       "    .dataframe tbody tr th {\n",
       "        vertical-align: top;\n",
       "    }\n",
       "\n",
       "    .dataframe thead th {\n",
       "        text-align: right;\n",
       "    }\n",
       "</style>\n",
       "<table border=\"1\" class=\"dataframe\">\n",
       "  <thead>\n",
       "    <tr style=\"text-align: right;\">\n",
       "      <th></th>\n",
       "      <th>hausa_clean</th>\n",
       "      <th>english_clean</th>\n",
       "    </tr>\n",
       "  </thead>\n",
       "  <tbody>\n",
       "    <tr>\n",
       "      <th>0</th>\n",
       "      <td>jurgen klopp ya lashe kyautar fifa ta gwarzon ...</td>\n",
       "      <td>jurgen klopp has won the fifa world coach of t...</td>\n",
       "    </tr>\n",
       "    <tr>\n",
       "      <th>1</th>\n",
       "      <td>jurgen klopp ya lashe kyautar fifa ta gwarzon ...</td>\n",
       "      <td>jurgen klopp has won the fifa world coach of t...</td>\n",
       "    </tr>\n",
       "    <tr>\n",
       "      <th>3</th>\n",
       "      <td>ƴan bindiga sun kashe mutum da ƙona buhunan ma...</td>\n",
       "      <td>gunmen kill man and burn sacks of maize in kaduna</td>\n",
       "    </tr>\n",
       "    <tr>\n",
       "      <th>4</th>\n",
       "      <td>ƴan bindiga sun kashe mutum da ƙona buhunan ma...</td>\n",
       "      <td>gunmen kill man and burn sacks of maize in kaduna</td>\n",
       "    </tr>\n",
       "    <tr>\n",
       "      <th>5</th>\n",
       "      <td>ƴan bindiga sun kashe mutum da ƙona buhunan ma...</td>\n",
       "      <td>gunmen kill man and burn sacks of maize in kaduna</td>\n",
       "    </tr>\n",
       "  </tbody>\n",
       "</table>\n",
       "</div>"
      ],
      "text/plain": [
       "                                         hausa_clean  \\\n",
       "0  jurgen klopp ya lashe kyautar fifa ta gwarzon ...   \n",
       "1  jurgen klopp ya lashe kyautar fifa ta gwarzon ...   \n",
       "3  ƴan bindiga sun kashe mutum da ƙona buhunan ma...   \n",
       "4  ƴan bindiga sun kashe mutum da ƙona buhunan ma...   \n",
       "5  ƴan bindiga sun kashe mutum da ƙona buhunan ma...   \n",
       "\n",
       "                                       english_clean  \n",
       "0  jurgen klopp has won the fifa world coach of t...  \n",
       "1  jurgen klopp has won the fifa world coach of t...  \n",
       "3  gunmen kill man and burn sacks of maize in kaduna  \n",
       "4  gunmen kill man and burn sacks of maize in kaduna  \n",
       "5  gunmen kill man and burn sacks of maize in kaduna  "
      ]
     },
     "execution_count": 8,
     "metadata": {},
     "output_type": "execute_result"
    }
   ],
   "source": [
    "# Assuming the columns are named 'CleanedMainT' for Hausa and 'Hausa2EngMainT' for English\n",
    "data = data[['CleanedMainT', 'Hausa2EngMainT']].dropna()\n",
    "\n",
    "# Clean the texts\n",
    "data['hausa_clean'] = data['CleanedMainT'].apply(clean_text)\n",
    "data['english_clean'] = data['Hausa2EngMainT'].apply(clean_text)\n",
    "\n",
    "# Display cleaned data\n",
    "data[['hausa_clean', 'english_clean']].head()\n"
   ]
  },
  {
   "cell_type": "code",
   "execution_count": 9,
   "metadata": {},
   "outputs": [
    {
     "name": "stdout",
     "output_type": "stream",
     "text": [
      "Total samples after cleaning: 292\n"
     ]
    }
   ],
   "source": [
    "# Remove rows with empty translations\n",
    "data = data[(data['hausa_clean'].str.len() > 0) & (data['english_clean'].str.len() > 0)]\n",
    "\n",
    "print(f\"Total samples after cleaning: {len(data)}\")\n"
   ]
  },
  {
   "cell_type": "code",
   "execution_count": 10,
   "metadata": {},
   "outputs": [],
   "source": [
    "# Prepare input and target texts\n",
    "input_texts = data['hausa_clean'].tolist()\n",
    "target_texts = data['english_clean'].tolist()\n",
    "\n",
    "# Add start and end tokens to target texts\n",
    "target_texts = ['<start> ' + text + ' <end>' for text in target_texts]\n"
   ]
  },
  {
   "cell_type": "code",
   "execution_count": 11,
   "metadata": {},
   "outputs": [],
   "source": [
    "# Tokenizer for input language (Hausa)\n",
    "input_tokenizer = Tokenizer(filters='')\n",
    "input_tokenizer.fit_on_texts(input_texts)\n",
    "input_sequences = input_tokenizer.texts_to_sequences(input_texts)\n",
    "input_word_index = input_tokenizer.word_index\n",
    "num_encoder_tokens = len(input_word_index) + 1  # +1 for padding token\n",
    "\n",
    "# Tokenizer for target language (English)\n",
    "target_tokenizer = Tokenizer(filters='')\n",
    "target_tokenizer.fit_on_texts(target_texts)\n",
    "target_sequences = target_tokenizer.texts_to_sequences(target_texts)\n",
    "target_word_index = target_tokenizer.word_index\n",
    "num_decoder_tokens = len(target_word_index) + 1  # +1 for padding token\n"
   ]
  },
  {
   "cell_type": "code",
   "execution_count": 12,
   "metadata": {},
   "outputs": [
    {
     "name": "stdout",
     "output_type": "stream",
     "text": [
      "Max sequence length for inputs: 22\n",
      "Max sequence length for outputs: 28\n"
     ]
    }
   ],
   "source": [
    "max_encoder_seq_length = max([len(seq) for seq in input_sequences])\n",
    "max_decoder_seq_length = max([len(seq) for seq in target_sequences])\n",
    "\n",
    "print(f\"Max sequence length for inputs: {max_encoder_seq_length}\")\n",
    "print(f\"Max sequence length for outputs: {max_decoder_seq_length}\")\n"
   ]
  },
  {
   "cell_type": "code",
   "execution_count": 13,
   "metadata": {},
   "outputs": [],
   "source": [
    "encoder_input_data = pad_sequences(input_sequences, maxlen=max_encoder_seq_length, padding='post')\n",
    "decoder_input_data = pad_sequences(target_sequences, maxlen=max_decoder_seq_length, padding='post')\n"
   ]
  },
  {
   "cell_type": "code",
   "execution_count": 14,
   "metadata": {},
   "outputs": [],
   "source": [
    "# Prepare decoder target data\n",
    "decoder_target_sequences = []\n",
    "for seq in target_sequences:\n",
    "    decoder_target_sequences.append(seq[1:])  # Remove the first token (start token)\n",
    "\n",
    "decoder_target_data = pad_sequences(decoder_target_sequences, maxlen=max_decoder_seq_length, padding='post')\n"
   ]
  },
  {
   "cell_type": "code",
   "execution_count": 15,
   "metadata": {},
   "outputs": [
    {
     "name": "stdout",
     "output_type": "stream",
     "text": [
      "Training samples: 233\n",
      "Validation samples: 59\n"
     ]
    }
   ],
   "source": [
    "# Split data into training and validation sets\n",
    "encoder_input_train, encoder_input_val, decoder_input_train, decoder_input_val, decoder_target_train, decoder_target_val = train_test_split(\n",
    "    encoder_input_data, decoder_input_data, decoder_target_data, test_size=0.2, random_state=42)\n",
    "\n",
    "print(f\"Training samples: {len(encoder_input_train)}\")\n",
    "print(f\"Validation samples: {len(encoder_input_val)}\")\n"
   ]
  },
  {
   "cell_type": "code",
   "execution_count": 16,
   "metadata": {},
   "outputs": [
    {
     "name": "stdout",
     "output_type": "stream",
     "text": [
      "WARNING:tensorflow:From c:\\Users\\Administrator\\AppData\\Local\\Programs\\Python\\Python311\\Lib\\site-packages\\keras\\src\\backend.py:1398: The name tf.executing_eagerly_outside_functions is deprecated. Please use tf.compat.v1.executing_eagerly_outside_functions instead.\n",
      "\n"
     ]
    }
   ],
   "source": [
    "# Encoder input layer\n",
    "encoder_inputs = Input(shape=(None,), name='encoder_inputs')\n",
    "# Embedding layer for encoder\n",
    "encoder_embedding = Embedding(input_dim=num_encoder_tokens, output_dim=256, name='encoder_embedding')(encoder_inputs)\n",
    "# Encoder LSTM\n",
    "encoder_lstm = LSTM(256, return_state=True, name='encoder_lstm')\n",
    "encoder_outputs, state_h, state_c = encoder_lstm(encoder_embedding)\n",
    "encoder_states = [state_h, state_c]\n",
    "\n",
    "# Decoder input layer\n",
    "decoder_inputs = Input(shape=(None,), name='decoder_inputs')\n",
    "# Embedding layer for decoder\n",
    "decoder_embedding = Embedding(input_dim=num_decoder_tokens, output_dim=256, name='decoder_embedding')(decoder_inputs)\n",
    "# Decoder LSTM\n",
    "decoder_lstm = LSTM(256, return_sequences=True, return_state=True, name='decoder_lstm')\n",
    "decoder_outputs, _, _ = decoder_lstm(decoder_embedding, initial_state=encoder_states)\n"
   ]
  },
  {
   "cell_type": "code",
   "execution_count": 17,
   "metadata": {},
   "outputs": [],
   "source": [
    "# Dense layer for output\n",
    "decoder_dense = Dense(num_decoder_tokens, activation='softmax', name='decoder_dense')\n",
    "decoder_outputs = decoder_dense(decoder_outputs)\n"
   ]
  },
  {
   "cell_type": "code",
   "execution_count": 18,
   "metadata": {},
   "outputs": [
    {
     "name": "stdout",
     "output_type": "stream",
     "text": [
      "WARNING:tensorflow:From c:\\Users\\Administrator\\AppData\\Local\\Programs\\Python\\Python311\\Lib\\site-packages\\keras\\src\\optimizers\\__init__.py:309: The name tf.train.Optimizer is deprecated. Please use tf.compat.v1.train.Optimizer instead.\n",
      "\n"
     ]
    }
   ],
   "source": [
    "# Define the model that takes encoder and decoder inputs and outputs\n",
    "model = Model([encoder_inputs, decoder_inputs], decoder_outputs)\n",
    "\n",
    "# Compile the model\n",
    "model.compile(optimizer='rmsprop', loss='sparse_categorical_crossentropy')\n"
   ]
  },
  {
   "cell_type": "code",
   "execution_count": 19,
   "metadata": {},
   "outputs": [],
   "source": [
    "# Reshape decoder target data to be compatible with sparse_categorical_crossentropy\n",
    "decoder_target_train = decoder_target_train.reshape(*decoder_target_train.shape, 1)\n",
    "decoder_target_val = decoder_target_val.reshape(*decoder_target_val.shape, 1)\n"
   ]
  },
  {
   "cell_type": "code",
   "execution_count": 20,
   "metadata": {},
   "outputs": [],
   "source": [
    "early_stopping = EarlyStopping(monitor='val_loss', patience=3)\n"
   ]
  },
  {
   "cell_type": "code",
   "execution_count": 21,
   "metadata": {},
   "outputs": [
    {
     "name": "stdout",
     "output_type": "stream",
     "text": [
      "Epoch 1/50\n",
      "WARNING:tensorflow:From c:\\Users\\Administrator\\AppData\\Local\\Programs\\Python\\Python311\\Lib\\site-packages\\keras\\src\\utils\\tf_utils.py:492: The name tf.ragged.RaggedTensorValue is deprecated. Please use tf.compat.v1.ragged.RaggedTensorValue instead.\n",
      "\n",
      "4/4 [==============================] - 4s 353ms/step - loss: 5.5937 - val_loss: 3.1636\n",
      "Epoch 2/50\n",
      "4/4 [==============================] - 1s 137ms/step - loss: 2.6731 - val_loss: 2.9109\n",
      "Epoch 3/50\n",
      "4/4 [==============================] - 1s 137ms/step - loss: 2.4433 - val_loss: 2.8954\n",
      "Epoch 4/50\n",
      "4/4 [==============================] - 1s 137ms/step - loss: 2.4661 - val_loss: 2.7838\n",
      "Epoch 5/50\n",
      "4/4 [==============================] - 1s 144ms/step - loss: 2.3098 - val_loss: 2.8481\n",
      "Epoch 6/50\n",
      "4/4 [==============================] - 1s 205ms/step - loss: 2.3542 - val_loss: 2.6947\n",
      "Epoch 7/50\n",
      "4/4 [==============================] - 1s 210ms/step - loss: 2.2005 - val_loss: 2.6569\n",
      "Epoch 8/50\n",
      "4/4 [==============================] - 1s 181ms/step - loss: 2.3055 - val_loss: 2.6927\n",
      "Epoch 9/50\n",
      "4/4 [==============================] - 1s 196ms/step - loss: 2.2222 - val_loss: 2.5887\n",
      "Epoch 10/50\n",
      "4/4 [==============================] - 1s 212ms/step - loss: 2.1221 - val_loss: 2.8068\n",
      "Epoch 11/50\n",
      "4/4 [==============================] - 1s 211ms/step - loss: 2.1725 - val_loss: 2.6011\n",
      "Epoch 12/50\n",
      "4/4 [==============================] - 1s 191ms/step - loss: 2.0553 - val_loss: 2.5993\n"
     ]
    }
   ],
   "source": [
    "history = model.fit(\n",
    "    [encoder_input_train, decoder_input_train],\n",
    "    decoder_target_train,\n",
    "    batch_size=64,\n",
    "    epochs=50,\n",
    "    validation_data=([encoder_input_val, decoder_input_val], decoder_target_val),\n",
    "    callbacks=[early_stopping]\n",
    ")\n"
   ]
  },
  {
   "cell_type": "code",
   "execution_count": 22,
   "metadata": {},
   "outputs": [
    {
     "data": {
      "image/png": "[encoded data removed]",
      "text/plain": [
       "<Figure size 800x600 with 1 Axes>"
      ]
     },
     "metadata": {},
     "output_type": "display_data"
    }
   ],
   "source": [
    "# Plot training & validation loss\n",
    "plt.figure(figsize=(8, 6))\n",
    "plt.plot(history.history['loss'], label='Training Loss')\n",
    "plt.plot(history.history['val_loss'], label='Validation Loss')\n",
    "plt.title('Model Loss')\n",
    "plt.xlabel('Epoch')\n",
    "plt.ylabel('Loss')\n",
    "plt.legend()\n",
    "plt.show()\n"
   ]
  },
  {
   "cell_type": "code",
   "execution_count": 23,
   "metadata": {},
   "outputs": [],
   "source": [
    "encoder_model = Model(encoder_inputs, encoder_states)\n"
   ]
  },
  {
   "cell_type": "code",
   "execution_count": 24,
   "metadata": {},
   "outputs": [
    {
     "ename": "TypeError",
     "evalue": "'KerasTensor' object is not callable",
     "output_type": "error",
     "traceback": [
      "\u001b[1;31m---------------------------------------------------------------------------\u001b[0m",
      "\u001b[1;31mTypeError\u001b[0m                                 Traceback (most recent call last)",
      "Cell \u001b[1;32mIn[24], line 7\u001b[0m\n\u001b[0;32m      4\u001b[0m decoder_states_inputs \u001b[38;5;241m=\u001b[39m [decoder_state_input_h, decoder_state_input_c]\n\u001b[0;32m      6\u001b[0m \u001b[38;5;66;03m# Embedding layer\u001b[39;00m\n\u001b[1;32m----> 7\u001b[0m dec_emb2 \u001b[38;5;241m=\u001b[39m \u001b[43mdecoder_embedding\u001b[49m\u001b[43m(\u001b[49m\u001b[43mdecoder_inputs\u001b[49m\u001b[43m)\u001b[49m\n\u001b[0;32m      9\u001b[0m \u001b[38;5;66;03m# LSTM with states\u001b[39;00m\n\u001b[0;32m     10\u001b[0m decoder_outputs2, state_h2, state_c2 \u001b[38;5;241m=\u001b[39m decoder_lstm(\n\u001b[0;32m     11\u001b[0m     dec_emb2, initial_state\u001b[38;5;241m=\u001b[39mdecoder_states_inputs)\n",
      "\u001b[1;31mTypeError\u001b[0m: 'KerasTensor' object is not callable"
     ]
    }
   ],
   "source": [
    "# Decoder states inputs\n",
    "decoder_state_input_h = Input(shape=(256,))\n",
    "decoder_state_input_c = Input(shape=(256,))\n",
    "decoder_states_inputs = [decoder_state_input_h, decoder_state_input_c]\n",
    "\n",
    "# Embedding layer\n",
    "dec_emb2 = decoder_embedding(decoder_inputs)\n",
    "\n",
    "# LSTM with states\n",
    "decoder_outputs2, state_h2, state_c2 = decoder_lstm(\n",
    "    dec_emb2, initial_state=decoder_states_inputs)\n",
    "decoder_states2 = [state_h2, state_c2]\n",
    "\n",
    "# Dense layer\n",
    "decoder_outputs2 = decoder_dense(decoder_outputs2)\n",
    "\n",
    "# Final decoder model\n",
    "decoder_model = Model(\n",
    "    [decoder_inputs] + decoder_states_inputs,\n",
    "    [decoder_outputs2] + decoder_states2)\n"
   ]
  },
  {
   "cell_type": "code",
   "execution_count": null,
   "metadata": {},
   "outputs": [],
   "source": []
  }
 ],
 "metadata": {
  "kernelspec": {
   "display_name": "Python 3",
   "language": "python",
   "name": "python3"
  },
  "language_info": {
   "codemirror_mode": {
    "name": "ipython",
    "version": 3
   },
   "file_extension": ".py",
   "mimetype": "text/x-python",
   "name": "python",
   "nbconvert_exporter": "python",
   "pygments_lexer": "ipython3",
   "version": "3.11.4"
  }
 },
 "nbformat": 4,
 "nbformat_minor": 2
}
