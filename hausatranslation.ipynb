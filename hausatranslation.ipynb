{
 "cells": [
  {
   "cell_type": "markdown",
   "metadata": {},
   "source": [
    "# English to Hausa Translation Model with RNNs and Attention\n",
    "\n",
    "### This notebook demonstrates the development of an English to Hausa translation model using Recurrent Neural Networks (RNNs) with an attention mechanism. We'll process the provided dataset, build, train, and evaluate the model."
   ]
  },
  {
   "cell_type": "markdown",
   "metadata": {},
   "source": [
    "## Import Libraries"
   ]
  },
  {
   "cell_type": "code",
   "execution_count": 55,
   "metadata": {},
   "outputs": [
    {
     "name": "stdout",
     "output_type": "stream",
     "text": [
      "TensorFlow Version: 2.15.0\n"
     ]
    }
   ],
   "source": [
    "import pandas as pd\n",
    "import numpy as np\n",
    "import matplotlib.pyplot as plt\n",
    "import re\n",
    "import string\n",
    "\n",
    "from sklearn.model_selection import train_test_split\n",
    "\n",
    "import tensorflow as tf\n",
    "from tensorflow.keras.preprocessing.text import Tokenizer\n",
    "from tensorflow.keras.preprocessing.sequence import pad_sequences\n",
    "from tensorflow.keras.models import Model\n",
    "from tensorflow.keras.layers import Input, LSTM, Dense, Embedding, Dropout, Concatenate, Attention\n",
    "from tensorflow.keras.callbacks import EarlyStopping\n",
    "from tensorflow.keras.optimizers import Adam\n",
    "\n",
    "print(\"TensorFlow Version:\", tf.__version__)\n"
   ]
  },
  {
   "cell_type": "markdown",
   "metadata": {},
   "source": [
    "## Load and Inspect Dataset"
   ]
  },
  {
   "cell_type": "code",
   "execution_count": 80,
   "metadata": {},
   "outputs": [
    {
     "data": {
      "text/html": [
       "<div>\n",
       "<style scoped>\n",
       "    .dataframe tbody tr th:only-of-type {\n",
       "        vertical-align: middle;\n",
       "    }\n",
       "\n",
       "    .dataframe tbody tr th {\n",
       "        vertical-align: top;\n",
       "    }\n",
       "\n",
       "    .dataframe thead th {\n",
       "        text-align: right;\n",
       "    }\n",
       "</style>\n",
       "<table border=\"1\" class=\"dataframe\">\n",
       "  <thead>\n",
       "    <tr style=\"text-align: right;\">\n",
       "      <th></th>\n",
       "      <th>CleanedMainT</th>\n",
       "      <th>CleanedReplyT</th>\n",
       "      <th>Hausa2EngMainT</th>\n",
       "      <th>Hausa2EngReplyT</th>\n",
       "    </tr>\n",
       "  </thead>\n",
       "  <tbody>\n",
       "    <tr>\n",
       "      <th>0</th>\n",
       "      <td>Jurgen Klopp ya lashe kyautar Fifa ta gwarzon ...</td>\n",
       "      <td>Abunda ya faru tun last week</td>\n",
       "      <td>Jurgen Klopp has won the Fifa World Coach of t...</td>\n",
       "      <td>It's been a while since last week</td>\n",
       "    </tr>\n",
       "    <tr>\n",
       "      <th>1</th>\n",
       "      <td>Jurgen Klopp ya lashe kyautar Fifa ta gwarzon ...</td>\n",
       "      <td>Ku sai yanzu ku ke sawa news</td>\n",
       "      <td>Jurgen Klopp has won the Fifa World Coach of t...</td>\n",
       "      <td>You are now wearing news</td>\n",
       "    </tr>\n",
       "    <tr>\n",
       "      <th>3</th>\n",
       "      <td>Ƴan bindiga sun kashe mutum da ƙona buhunan ma...</td>\n",
       "      <td>Allah ya isa tsakaninmu da duk wanda yake da s...</td>\n",
       "      <td>Gunmen kill man and burn sacks of maize in Kaduna</td>\n",
       "      <td>May Allah reach between us and all those who a...</td>\n",
       "    </tr>\n",
       "    <tr>\n",
       "      <th>4</th>\n",
       "      <td>Ƴan bindiga sun kashe mutum da ƙona buhunan ma...</td>\n",
       "      <td>Innalillahi wa innailaihi rajiun. Wannan kasar...</td>\n",
       "      <td>Gunmen kill man and burn sacks of maize in Kaduna</td>\n",
       "      <td>Innalillahi wa innailaihi rajiun. This country...</td>\n",
       "    </tr>\n",
       "    <tr>\n",
       "      <th>5</th>\n",
       "      <td>Ƴan bindiga sun kashe mutum da ƙona buhunan ma...</td>\n",
       "      <td>Subhnallah</td>\n",
       "      <td>Gunmen kill man and burn sacks of maize in Kaduna</td>\n",
       "      <td>Subhnallah</td>\n",
       "    </tr>\n",
       "  </tbody>\n",
       "</table>\n",
       "</div>"
      ],
      "text/plain": [
       "                                        CleanedMainT  \\\n",
       "0  Jurgen Klopp ya lashe kyautar Fifa ta gwarzon ...   \n",
       "1  Jurgen Klopp ya lashe kyautar Fifa ta gwarzon ...   \n",
       "3  Ƴan bindiga sun kashe mutum da ƙona buhunan ma...   \n",
       "4  Ƴan bindiga sun kashe mutum da ƙona buhunan ma...   \n",
       "5  Ƴan bindiga sun kashe mutum da ƙona buhunan ma...   \n",
       "\n",
       "                                       CleanedReplyT  \\\n",
       "0                       Abunda ya faru tun last week   \n",
       "1                       Ku sai yanzu ku ke sawa news   \n",
       "3  Allah ya isa tsakaninmu da duk wanda yake da s...   \n",
       "4  Innalillahi wa innailaihi rajiun. Wannan kasar...   \n",
       "5                                         Subhnallah   \n",
       "\n",
       "                                      Hausa2EngMainT  \\\n",
       "0  Jurgen Klopp has won the Fifa World Coach of t...   \n",
       "1  Jurgen Klopp has won the Fifa World Coach of t...   \n",
       "3  Gunmen kill man and burn sacks of maize in Kaduna   \n",
       "4  Gunmen kill man and burn sacks of maize in Kaduna   \n",
       "5  Gunmen kill man and burn sacks of maize in Kaduna   \n",
       "\n",
       "                                     Hausa2EngReplyT  \n",
       "0                  It's been a while since last week  \n",
       "1                           You are now wearing news  \n",
       "3  May Allah reach between us and all those who a...  \n",
       "4  Innalillahi wa innailaihi rajiun. This country...  \n",
       "5                                         Subhnallah  "
      ]
     },
     "execution_count": 80,
     "metadata": {},
     "output_type": "execute_result"
    }
   ],
   "source": [
    "# Load the data\n",
    "data = pd.read_csv('data/parallel-hausa-tweets.csv')\n",
    "\n",
    "# Display the first few rows\n",
    "data.head()\n"
   ]
  },
  {
   "cell_type": "code",
   "execution_count": 81,
   "metadata": {},
   "outputs": [
    {
     "name": "stdout",
     "output_type": "stream",
     "text": [
      "Columns: ['CleanedMainT', 'CleanedReplyT', 'Hausa2EngMainT', 'Hausa2EngReplyT']\n",
      "\n",
      "Missing values:\n",
      " CleanedMainT       0\n",
      "CleanedReplyT      5\n",
      "Hausa2EngMainT     0\n",
      "Hausa2EngReplyT    3\n",
      "dtype: int64\n",
      "<class 'pandas.core.frame.DataFrame'>\n",
      "Index: 292 entries, 0 to 104\n",
      "Data columns (total 4 columns):\n",
      " #   Column           Non-Null Count  Dtype \n",
      "---  ------           --------------  ----- \n",
      " 0   CleanedMainT     292 non-null    object\n",
      " 1   CleanedReplyT    287 non-null    object\n",
      " 2   Hausa2EngMainT   292 non-null    object\n",
      " 3   Hausa2EngReplyT  289 non-null    object\n",
      "dtypes: object(4)\n",
      "memory usage: 11.4+ KB\n"
     ]
    }
   ],
   "source": [
    "# Display column names\n",
    "print(\"Columns:\", data.columns.tolist())\n",
    "\n",
    "# Check for missing values\n",
    "print(\"\\nMissing values:\\n\", data.isnull().sum())\n",
    "\n",
    "# Data information\n",
    "data.info()\n"
   ]
  },
  {
   "cell_type": "markdown",
   "metadata": {},
   "source": [
    "## Data Preparation"
   ]
  },
  {
   "cell_type": "markdown",
   "metadata": {},
   "source": [
    "## Combine Main Texts and Replies"
   ]
  },
  {
   "cell_type": "code",
   "execution_count": 83,
   "metadata": {},
   "outputs": [
    {
     "data": {
      "text/html": [
       "<div>\n",
       "<style scoped>\n",
       "    .dataframe tbody tr th:only-of-type {\n",
       "        vertical-align: middle;\n",
       "    }\n",
       "\n",
       "    .dataframe tbody tr th {\n",
       "        vertical-align: top;\n",
       "    }\n",
       "\n",
       "    .dataframe thead th {\n",
       "        text-align: right;\n",
       "    }\n",
       "</style>\n",
       "<table border=\"1\" class=\"dataframe\">\n",
       "  <thead>\n",
       "    <tr style=\"text-align: right;\">\n",
       "      <th></th>\n",
       "      <th>hausa</th>\n",
       "      <th>english</th>\n",
       "    </tr>\n",
       "  </thead>\n",
       "  <tbody>\n",
       "    <tr>\n",
       "      <th>0</th>\n",
       "      <td>Jurgen Klopp ya lashe kyautar Fifa ta gwarzon ...</td>\n",
       "      <td>Jurgen Klopp has won the Fifa World Coach of t...</td>\n",
       "    </tr>\n",
       "    <tr>\n",
       "      <th>1</th>\n",
       "      <td>Jurgen Klopp ya lashe kyautar Fifa ta gwarzon ...</td>\n",
       "      <td>Jurgen Klopp has won the Fifa World Coach of t...</td>\n",
       "    </tr>\n",
       "    <tr>\n",
       "      <th>2</th>\n",
       "      <td>Ƴan bindiga sun kashe mutum da ƙona buhunan ma...</td>\n",
       "      <td>Gunmen kill man and burn sacks of maize in Kaduna</td>\n",
       "    </tr>\n",
       "    <tr>\n",
       "      <th>3</th>\n",
       "      <td>Ƴan bindiga sun kashe mutum da ƙona buhunan ma...</td>\n",
       "      <td>Gunmen kill man and burn sacks of maize in Kaduna</td>\n",
       "    </tr>\n",
       "    <tr>\n",
       "      <th>4</th>\n",
       "      <td>Ƴan bindiga sun kashe mutum da ƙona buhunan ma...</td>\n",
       "      <td>Gunmen kill man and burn sacks of maize in Kaduna</td>\n",
       "    </tr>\n",
       "  </tbody>\n",
       "</table>\n",
       "</div>"
      ],
      "text/plain": [
       "                                               hausa  \\\n",
       "0  Jurgen Klopp ya lashe kyautar Fifa ta gwarzon ...   \n",
       "1  Jurgen Klopp ya lashe kyautar Fifa ta gwarzon ...   \n",
       "2  Ƴan bindiga sun kashe mutum da ƙona buhunan ma...   \n",
       "3  Ƴan bindiga sun kashe mutum da ƙona buhunan ma...   \n",
       "4  Ƴan bindiga sun kashe mutum da ƙona buhunan ma...   \n",
       "\n",
       "                                             english  \n",
       "0  Jurgen Klopp has won the Fifa World Coach of t...  \n",
       "1  Jurgen Klopp has won the Fifa World Coach of t...  \n",
       "2  Gunmen kill man and burn sacks of maize in Kaduna  \n",
       "3  Gunmen kill man and burn sacks of maize in Kaduna  \n",
       "4  Gunmen kill man and burn sacks of maize in Kaduna  "
      ]
     },
     "execution_count": 83,
     "metadata": {},
     "output_type": "execute_result"
    }
   ],
   "source": [
    "# Create a new DataFrame with combined texts\n",
    "main_df = data[['CleanedMainT', 'Hausa2EngMainT']].rename(\n",
    "    columns={'CleanedMainT': 'hausa', 'Hausa2EngMainT': 'english'}\n",
    ")\n",
    "reply_df = data[['CleanedReplyT', 'Hausa2EngReplyT']].rename(\n",
    "    columns={'CleanedReplyT': 'hausa', 'Hausa2EngReplyT': 'english'}\n",
    ")\n",
    "\n",
    "# Concatenate the two DataFrames\n",
    "combined_df = pd.concat([main_df, reply_df], ignore_index=True)\n",
    "\n",
    "# Drop rows with missing values\n",
    "combined_df = combined_df.dropna()\n",
    "\n",
    "# Display the combined data\n",
    "combined_df.head()\n"
   ]
  },
  {
   "cell_type": "markdown",
   "metadata": {},
   "source": [
    "## Data Cleaning and Preprocessing"
   ]
  },
  {
   "cell_type": "markdown",
   "metadata": {},
   "source": [
    "## Define Cleaning Function"
   ]
  },
  {
   "cell_type": "code",
   "execution_count": 84,
   "metadata": {},
   "outputs": [],
   "source": [
    "def clean_text(text):\n",
    "    # Convert to string and lowercase\n",
    "    text = str(text).lower()\n",
    "    # Remove text in square brackets\n",
    "    text = re.sub(r'\\[.*?\\]', '', text)\n",
    "    # Remove URLs\n",
    "    text = re.sub(r'http\\S+', '', text)\n",
    "    # Remove punctuation\n",
    "    text = text.translate(str.maketrans('', '', string.punctuation))\n",
    "    # Remove numbers\n",
    "    text = re.sub(r'\\d+', '', text)\n",
    "    # Remove extra spaces\n",
    "    text = re.sub(r'\\s+', ' ', text).strip()\n",
    "    return text\n"
   ]
  },
  {
   "cell_type": "markdown",
   "metadata": {},
   "source": [
    " ## Apply Cleaning Function"
   ]
  },
  {
   "cell_type": "code",
   "execution_count": 85,
   "metadata": {},
   "outputs": [
    {
     "data": {
      "text/html": [
       "<div>\n",
       "<style scoped>\n",
       "    .dataframe tbody tr th:only-of-type {\n",
       "        vertical-align: middle;\n",
       "    }\n",
       "\n",
       "    .dataframe tbody tr th {\n",
       "        vertical-align: top;\n",
       "    }\n",
       "\n",
       "    .dataframe thead th {\n",
       "        text-align: right;\n",
       "    }\n",
       "</style>\n",
       "<table border=\"1\" class=\"dataframe\">\n",
       "  <thead>\n",
       "    <tr style=\"text-align: right;\">\n",
       "      <th></th>\n",
       "      <th>hausa_clean</th>\n",
       "      <th>english_clean</th>\n",
       "    </tr>\n",
       "  </thead>\n",
       "  <tbody>\n",
       "    <tr>\n",
       "      <th>0</th>\n",
       "      <td>jurgen klopp ya lashe kyautar fifa ta gwarzon ...</td>\n",
       "      <td>jurgen klopp has won the fifa world coach of t...</td>\n",
       "    </tr>\n",
       "    <tr>\n",
       "      <th>1</th>\n",
       "      <td>jurgen klopp ya lashe kyautar fifa ta gwarzon ...</td>\n",
       "      <td>jurgen klopp has won the fifa world coach of t...</td>\n",
       "    </tr>\n",
       "    <tr>\n",
       "      <th>2</th>\n",
       "      <td>ƴan bindiga sun kashe mutum da ƙona buhunan ma...</td>\n",
       "      <td>gunmen kill man and burn sacks of maize in kaduna</td>\n",
       "    </tr>\n",
       "    <tr>\n",
       "      <th>3</th>\n",
       "      <td>ƴan bindiga sun kashe mutum da ƙona buhunan ma...</td>\n",
       "      <td>gunmen kill man and burn sacks of maize in kaduna</td>\n",
       "    </tr>\n",
       "    <tr>\n",
       "      <th>4</th>\n",
       "      <td>ƴan bindiga sun kashe mutum da ƙona buhunan ma...</td>\n",
       "      <td>gunmen kill man and burn sacks of maize in kaduna</td>\n",
       "    </tr>\n",
       "  </tbody>\n",
       "</table>\n",
       "</div>"
      ],
      "text/plain": [
       "                                         hausa_clean  \\\n",
       "0  jurgen klopp ya lashe kyautar fifa ta gwarzon ...   \n",
       "1  jurgen klopp ya lashe kyautar fifa ta gwarzon ...   \n",
       "2  ƴan bindiga sun kashe mutum da ƙona buhunan ma...   \n",
       "3  ƴan bindiga sun kashe mutum da ƙona buhunan ma...   \n",
       "4  ƴan bindiga sun kashe mutum da ƙona buhunan ma...   \n",
       "\n",
       "                                       english_clean  \n",
       "0  jurgen klopp has won the fifa world coach of t...  \n",
       "1  jurgen klopp has won the fifa world coach of t...  \n",
       "2  gunmen kill man and burn sacks of maize in kaduna  \n",
       "3  gunmen kill man and burn sacks of maize in kaduna  \n",
       "4  gunmen kill man and burn sacks of maize in kaduna  "
      ]
     },
     "execution_count": 85,
     "metadata": {},
     "output_type": "execute_result"
    }
   ],
   "source": [
    "# Apply the cleaning function\n",
    "combined_df['hausa_clean'] = combined_df['hausa'].apply(clean_text)\n",
    "combined_df['english_clean'] = combined_df['english'].apply(clean_text)\n",
    "\n",
    "# Remove empty strings\n",
    "combined_df = combined_df[\n",
    "    (combined_df['hausa_clean'].str.len() > 0) &\n",
    "    (combined_df['english_clean'].str.len() > 0)\n",
    "]\n",
    "\n",
    "# Display cleaned data\n",
    "combined_df[['hausa_clean', 'english_clean']].head()\n"
   ]
  },
  {
   "cell_type": "code",
   "execution_count": 86,
   "metadata": {},
   "outputs": [
    {
     "name": "stdout",
     "output_type": "stream",
     "text": [
      "Total samples after cleaning: 579\n"
     ]
    }
   ],
   "source": [
    "print(f\"Total samples after cleaning: {len(combined_df)}\")\n"
   ]
  },
  {
   "cell_type": "markdown",
   "metadata": {},
   "source": [
    "## Tokenization and Sequence Padding"
   ]
  },
  {
   "cell_type": "markdown",
   "metadata": {},
   "source": [
    "## Prepare Texts and Add Tokens"
   ]
  },
  {
   "cell_type": "code",
   "execution_count": 88,
   "metadata": {},
   "outputs": [],
   "source": [
    "# Prepare input and target texts\n",
    "input_texts = combined_df['hausa_clean'].tolist()\n",
    "target_texts = combined_df['english_clean'].tolist()\n",
    "\n",
    "# Add start and end tokens to target texts\n",
    "target_texts = ['<start> ' + text + ' <end>' for text in target_texts]\n"
   ]
  },
  {
   "cell_type": "markdown",
   "metadata": {},
   "source": [
    "## Tokenize the Texts"
   ]
  },
  {
   "cell_type": "code",
   "execution_count": 89,
   "metadata": {},
   "outputs": [],
   "source": [
    "# Tokenizer for input language (Hausa)\n",
    "input_tokenizer = Tokenizer(filters='', lower=False)\n",
    "input_tokenizer.fit_on_texts(input_texts)\n",
    "input_sequences = input_tokenizer.texts_to_sequences(input_texts)\n",
    "input_word_index = input_tokenizer.word_index\n",
    "num_encoder_tokens = len(input_word_index) + 1  # +1 for padding token\n",
    "\n",
    "# Tokenizer for target language (English)\n",
    "target_tokenizer = Tokenizer(filters='', lower=False)\n",
    "target_tokenizer.fit_on_texts(target_texts)\n",
    "target_sequences = target_tokenizer.texts_to_sequences(target_texts)\n",
    "target_word_index = target_tokenizer.word_index\n",
    "num_decoder_tokens = len(target_word_index) + 1  # +1 for padding token\n"
   ]
  },
  {
   "cell_type": "markdown",
   "metadata": {},
   "source": [
    "## Determine Maximum Sequence Lengths"
   ]
  },
  {
   "cell_type": "code",
   "execution_count": 90,
   "metadata": {},
   "outputs": [
    {
     "name": "stdout",
     "output_type": "stream",
     "text": [
      "Number of samples: 579\n",
      "Number of unique input tokens: 1253\n",
      "Number of unique output tokens: 965\n",
      "Max sequence length for inputs: 24\n",
      "Max sequence length for outputs: 28\n"
     ]
    }
   ],
   "source": [
    "max_encoder_seq_length = max(len(seq) for seq in input_sequences)\n",
    "max_decoder_seq_length = max(len(seq) for seq in target_sequences)\n",
    "\n",
    "print(f\"Number of samples: {len(input_texts)}\")\n",
    "print(f\"Number of unique input tokens: {num_encoder_tokens}\")\n",
    "print(f\"Number of unique output tokens: {num_decoder_tokens}\")\n",
    "print(f\"Max sequence length for inputs: {max_encoder_seq_length}\")\n",
    "print(f\"Max sequence length for outputs: {max_decoder_seq_length}\")\n"
   ]
  },
  {
   "cell_type": "markdown",
   "metadata": {},
   "source": [
    "## Pad the Sequences"
   ]
  },
  {
   "cell_type": "code",
   "execution_count": 92,
   "metadata": {},
   "outputs": [],
   "source": [
    "# Pad input sequences\n",
    "encoder_input_data = pad_sequences(\n",
    "    input_sequences, maxlen=max_encoder_seq_length, padding='post'\n",
    ")\n",
    "\n",
    "# Pad target sequences\n",
    "decoder_input_data = pad_sequences(\n",
    "    target_sequences, maxlen=max_decoder_seq_length, padding='post'\n",
    ")\n"
   ]
  },
  {
   "cell_type": "markdown",
   "metadata": {},
   "source": [
    "## Create Decoder Target Data"
   ]
  },
  {
   "cell_type": "code",
   "execution_count": 93,
   "metadata": {},
   "outputs": [],
   "source": [
    "# Prepare decoder target data\n",
    "decoder_target_data = np.zeros_like(decoder_input_data)\n",
    "decoder_target_data[:, 0:-1] = decoder_input_data[:, 1:]\n",
    "decoder_target_data[:, -1] = 0  # Padding token\n"
   ]
  },
  {
   "cell_type": "markdown",
   "metadata": {},
   "source": [
    "## Train-Test Split"
   ]
  },
  {
   "cell_type": "code",
   "execution_count": 111,
   "metadata": {},
   "outputs": [],
   "source": [
    "# Create an array of indices\n",
    "data_indices = np.arange(len(input_texts))\n",
    "\n",
    "# Perform the train-test split, including the indices\n",
    "(\n",
    "    encoder_input_train, encoder_input_val,\n",
    "    decoder_input_train, decoder_input_val,\n",
    "    decoder_target_train, decoder_target_val,\n",
    "    train_indices, val_indices\n",
    ") = train_test_split(\n",
    "    encoder_input_data,\n",
    "    decoder_input_data,\n",
    "    decoder_target_data,\n",
    "    data_indices,\n",
    "    test_size=0.1,\n",
    "    random_state=42\n",
    ")\n"
   ]
  },
  {
   "cell_type": "markdown",
   "metadata": {},
   "source": [
    "## Model Building with Attention"
   ]
  },
  {
   "cell_type": "markdown",
   "metadata": {},
   "source": [
    "# Set Hyperparameters"
   ]
  },
  {
   "cell_type": "code",
   "execution_count": 112,
   "metadata": {},
   "outputs": [],
   "source": [
    "embedding_dim = 128\n",
    "lstm_units = 256\n"
   ]
  },
  {
   "cell_type": "markdown",
   "metadata": {},
   "source": [
    "## Define Encoder"
   ]
  },
  {
   "cell_type": "code",
   "execution_count": 113,
   "metadata": {},
   "outputs": [],
   "source": [
    "# Encoder input layer\n",
    "encoder_inputs = Input(shape=(None,), name='encoder_inputs')\n",
    "\n",
    "# Encoder embedding layer\n",
    "encoder_embedding_layer = Embedding(\n",
    "    input_dim=num_encoder_tokens, output_dim=embedding_dim, name='encoder_embedding'\n",
    ")\n",
    "encoder_embedding = encoder_embedding_layer(encoder_inputs)\n",
    "encoder_embedding = Dropout(0.2)(encoder_embedding)\n",
    "\n",
    "# Encoder LSTM\n",
    "encoder_outputs, state_h, state_c = LSTM(\n",
    "    lstm_units, return_sequences=True, return_state=True, name='encoder_lstm'\n",
    ")(encoder_embedding)\n",
    "encoder_states = [state_h, state_c]\n"
   ]
  },
  {
   "cell_type": "markdown",
   "metadata": {},
   "source": [
    "## Define Decoder with Attention\n"
   ]
  },
  {
   "cell_type": "code",
   "execution_count": 114,
   "metadata": {},
   "outputs": [],
   "source": [
    "# Decoder input layer\n",
    "decoder_inputs = Input(shape=(None,), name='decoder_inputs')\n",
    "\n",
    "# Decoder embedding layer\n",
    "decoder_embedding_layer = Embedding(\n",
    "    input_dim=num_decoder_tokens, output_dim=embedding_dim, name='decoder_embedding'\n",
    ")\n",
    "decoder_embedding = decoder_embedding_layer(decoder_inputs)\n",
    "decoder_embedding = Dropout(0.2)(decoder_embedding)\n",
    "\n",
    "# Decoder LSTM\n",
    "decoder_lstm = LSTM(\n",
    "    lstm_units, return_sequences=True, return_state=True, name='decoder_lstm'\n",
    ")\n",
    "decoder_outputs, _, _ = decoder_lstm(\n",
    "    decoder_embedding, initial_state=encoder_states\n",
    ")\n",
    "\n",
    "# Attention mechanism using Keras Attention layer\n",
    "attention_layer = Attention(name='attention_layer')\n",
    "context_vector = attention_layer(\n",
    "    [decoder_outputs, encoder_outputs]\n",
    ")  # Query=decoder_outputs, Value=encoder_outputs\n",
    "\n",
    "# Concatenate context vector and decoder outputs\n",
    "decoder_combined_context = Concatenate(\n",
    "    axis=-1, name='concat_layer'\n",
    ")([context_vector, decoder_outputs])\n",
    "\n",
    "# Final output layer\n",
    "decoder_dense = Dense(\n",
    "    num_decoder_tokens, activation='softmax', name='decoder_dense'\n",
    ")\n",
    "decoder_outputs = decoder_dense(decoder_combined_context)\n"
   ]
  },
  {
   "cell_type": "markdown",
   "metadata": {},
   "source": [
    "## Build and Compile the Model"
   ]
  },
  {
   "cell_type": "code",
   "execution_count": 115,
   "metadata": {},
   "outputs": [
    {
     "name": "stdout",
     "output_type": "stream",
     "text": [
      "Model: \"model_9\"\n",
      "__________________________________________________________________________________________________\n",
      " Layer (type)                Output Shape                 Param #   Connected to                  \n",
      "==================================================================================================\n",
      " encoder_inputs (InputLayer  [(None, None)]               0         []                            \n",
      " )                                                                                                \n",
      "                                                                                                  \n",
      " decoder_inputs (InputLayer  [(None, None)]               0         []                            \n",
      " )                                                                                                \n",
      "                                                                                                  \n"
     ]
    },
    {
     "name": "stdout",
     "output_type": "stream",
     "text": [
      " encoder_embedding (Embeddi  (None, None, 128)            160384    ['encoder_inputs[0][0]']      \n",
      " ng)                                                                                              \n",
      "                                                                                                  \n",
      " decoder_embedding (Embeddi  (None, None, 128)            123520    ['decoder_inputs[0][0]']      \n",
      " ng)                                                                                              \n",
      "                                                                                                  \n",
      " dropout_12 (Dropout)        (None, None, 128)            0         ['encoder_embedding[0][0]']   \n",
      "                                                                                                  \n",
      " dropout_13 (Dropout)        (None, None, 128)            0         ['decoder_embedding[0][0]']   \n",
      "                                                                                                  \n",
      " encoder_lstm (LSTM)         [(None, None, 256),          394240    ['dropout_12[0][0]']          \n",
      "                              (None, 256),                                                        \n",
      "                              (None, 256)]                                                        \n",
      "                                                                                                  \n",
      " decoder_lstm (LSTM)         [(None, None, 256),          394240    ['dropout_13[0][0]',          \n",
      "                              (None, 256),                           'encoder_lstm[0][1]',        \n",
      "                              (None, 256)]                           'encoder_lstm[0][2]']        \n",
      "                                                                                                  \n",
      " attention_layer (Attention  (None, None, 256)            0         ['decoder_lstm[0][0]',        \n",
      " )                                                                   'encoder_lstm[0][0]']        \n",
      "                                                                                                  \n",
      " concat_layer (Concatenate)  (None, None, 512)            0         ['attention_layer[0][0]',     \n",
      "                                                                     'decoder_lstm[0][0]']        \n",
      "                                                                                                  \n",
      " decoder_dense (Dense)       (None, None, 965)            495045    ['concat_layer[0][0]']        \n",
      "                                                                                                  \n",
      "==================================================================================================\n",
      "Total params: 1567429 (5.98 MB)\n",
      "Trainable params: 1567429 (5.98 MB)\n",
      "Non-trainable params: 0 (0.00 Byte)\n",
      "__________________________________________________________________________________________________\n"
     ]
    }
   ],
   "source": [
    "# Define the model\n",
    "model = Model([encoder_inputs, decoder_inputs], decoder_outputs)\n",
    "\n",
    "# Compile the model\n",
    "model.compile(\n",
    "    optimizer=Adam(learning_rate=0.001), loss='sparse_categorical_crossentropy'\n",
    ")\n",
    "\n",
    "# Summary of the model\n",
    "model.summary()\n"
   ]
  },
  {
   "cell_type": "markdown",
   "metadata": {},
   "source": [
    "## Model Training"
   ]
  },
  {
   "cell_type": "markdown",
   "metadata": {},
   "source": [
    "## Prepare Target Data"
   ]
  },
  {
   "cell_type": "code",
   "execution_count": 117,
   "metadata": {},
   "outputs": [],
   "source": [
    "# Reshape decoder target data to be compatible with sparse_categorical_crossentropy\n",
    "decoder_target_train = decoder_target_train.reshape(\n",
    "    *decoder_target_train.shape, 1\n",
    ")\n",
    "decoder_target_val = decoder_target_val.reshape(\n",
    "    *decoder_target_val.shape, 1\n",
    ")\n"
   ]
  },
  {
   "cell_type": "markdown",
   "metadata": {},
   "source": [
    "## Define Early Stopping Callback"
   ]
  },
  {
   "cell_type": "code",
   "execution_count": 118,
   "metadata": {},
   "outputs": [],
   "source": [
    "early_stopping = EarlyStopping(\n",
    "    monitor='val_loss', patience=5, restore_best_weights=True\n",
    ")\n"
   ]
  },
  {
   "cell_type": "markdown",
   "metadata": {},
   "source": [
    "## Train the Model"
   ]
  },
  {
   "cell_type": "code",
   "execution_count": 119,
   "metadata": {},
   "outputs": [
    {
     "name": "stdout",
     "output_type": "stream",
     "text": [
      "Epoch 1/50\n",
      "9/9 [==============================] - 5s 209ms/step - loss: 6.3351 - val_loss: 2.3005\n",
      "Epoch 2/50\n",
      "9/9 [==============================] - 1s 146ms/step - loss: 2.5749 - val_loss: 2.3240\n",
      "Epoch 3/50\n",
      "9/9 [==============================] - 1s 139ms/step - loss: 2.3667 - val_loss: 2.1298\n",
      "Epoch 4/50\n",
      "9/9 [==============================] - 1s 139ms/step - loss: 2.2746 - val_loss: 2.0984\n",
      "Epoch 5/50\n",
      "9/9 [==============================] - 1s 141ms/step - loss: 2.2150 - val_loss: 2.0388\n",
      "Epoch 6/50\n",
      "9/9 [==============================] - 1s 139ms/step - loss: 2.1568 - val_loss: 2.0047\n",
      "Epoch 7/50\n",
      "9/9 [==============================] - 1s 139ms/step - loss: 2.1103 - val_loss: 1.9486\n",
      "Epoch 8/50\n",
      "9/9 [==============================] - 1s 139ms/step - loss: 2.0336 - val_loss: 1.8786\n",
      "Epoch 9/50\n",
      "9/9 [==============================] - 1s 139ms/step - loss: 1.9644 - val_loss: 1.8104\n",
      "Epoch 10/50\n",
      "9/9 [==============================] - 1s 139ms/step - loss: 1.8994 - val_loss: 1.7711\n",
      "Epoch 11/50\n",
      "9/9 [==============================] - 1s 139ms/step - loss: 1.8239 - val_loss: 1.7283\n",
      "Epoch 12/50\n",
      "9/9 [==============================] - 2s 186ms/step - loss: 1.7731 - val_loss: 1.6963\n",
      "Epoch 13/50\n",
      "9/9 [==============================] - 2s 195ms/step - loss: 1.7291 - val_loss: 1.6631\n",
      "Epoch 14/50\n",
      "9/9 [==============================] - 2s 190ms/step - loss: 1.6841 - val_loss: 1.6453\n",
      "Epoch 15/50\n",
      "9/9 [==============================] - 2s 185ms/step - loss: 1.6473 - val_loss: 1.6136\n",
      "Epoch 16/50\n",
      "9/9 [==============================] - 2s 187ms/step - loss: 1.6065 - val_loss: 1.5885\n",
      "Epoch 17/50\n",
      "9/9 [==============================] - 2s 181ms/step - loss: 1.5721 - val_loss: 1.5605\n",
      "Epoch 18/50\n",
      "9/9 [==============================] - 2s 181ms/step - loss: 1.5502 - val_loss: 1.5381\n",
      "Epoch 19/50\n",
      "9/9 [==============================] - 2s 177ms/step - loss: 1.5196 - val_loss: 1.5253\n",
      "Epoch 20/50\n",
      "9/9 [==============================] - 2s 183ms/step - loss: 1.4828 - val_loss: 1.4878\n",
      "Epoch 21/50\n",
      "9/9 [==============================] - 2s 184ms/step - loss: 1.4530 - val_loss: 1.4552\n",
      "Epoch 22/50\n",
      "9/9 [==============================] - 2s 189ms/step - loss: 1.4176 - val_loss: 1.4461\n",
      "Epoch 23/50\n",
      "9/9 [==============================] - 2s 185ms/step - loss: 1.3778 - val_loss: 1.4031\n",
      "Epoch 24/50\n",
      "9/9 [==============================] - 2s 185ms/step - loss: 1.3329 - val_loss: 1.3911\n",
      "Epoch 25/50\n",
      "9/9 [==============================] - 2s 191ms/step - loss: 1.2955 - val_loss: 1.3556\n",
      "Epoch 26/50\n",
      "9/9 [==============================] - 2s 183ms/step - loss: 1.2669 - val_loss: 1.3298\n",
      "Epoch 27/50\n",
      "9/9 [==============================] - 2s 175ms/step - loss: 1.2290 - val_loss: 1.3192\n",
      "Epoch 28/50\n",
      "9/9 [==============================] - 2s 197ms/step - loss: 1.1978 - val_loss: 1.2844\n",
      "Epoch 29/50\n",
      "9/9 [==============================] - 2s 189ms/step - loss: 1.1590 - val_loss: 1.2420\n",
      "Epoch 30/50\n",
      "9/9 [==============================] - 2s 187ms/step - loss: 1.1243 - val_loss: 1.2393\n",
      "Epoch 31/50\n",
      "9/9 [==============================] - 2s 188ms/step - loss: 1.0965 - val_loss: 1.2308\n",
      "Epoch 32/50\n",
      "9/9 [==============================] - 2s 184ms/step - loss: 1.0704 - val_loss: 1.2073\n",
      "Epoch 33/50\n",
      "9/9 [==============================] - 2s 195ms/step - loss: 1.0383 - val_loss: 1.1897\n",
      "Epoch 34/50\n",
      "9/9 [==============================] - 2s 184ms/step - loss: 1.0154 - val_loss: 1.1733\n",
      "Epoch 35/50\n",
      "9/9 [==============================] - 2s 173ms/step - loss: 0.9871 - val_loss: 1.1751\n",
      "Epoch 36/50\n",
      "9/9 [==============================] - 2s 194ms/step - loss: 0.9648 - val_loss: 1.1576\n",
      "Epoch 37/50\n",
      "9/9 [==============================] - 2s 184ms/step - loss: 0.9416 - val_loss: 1.1521\n",
      "Epoch 38/50\n",
      "9/9 [==============================] - 2s 178ms/step - loss: 0.9434 - val_loss: 1.1529\n",
      "Epoch 39/50\n",
      "9/9 [==============================] - 2s 181ms/step - loss: 0.9326 - val_loss: 1.1247\n",
      "Epoch 40/50\n",
      "9/9 [==============================] - 2s 180ms/step - loss: 0.8981 - val_loss: 1.1155\n",
      "Epoch 41/50\n",
      "9/9 [==============================] - 2s 175ms/step - loss: 0.8761 - val_loss: 1.0865\n",
      "Epoch 42/50\n",
      "9/9 [==============================] - 2s 179ms/step - loss: 0.8514 - val_loss: 1.0876\n",
      "Epoch 43/50\n",
      "9/9 [==============================] - 2s 181ms/step - loss: 0.8341 - val_loss: 1.0863\n",
      "Epoch 44/50\n",
      "9/9 [==============================] - 2s 176ms/step - loss: 0.8135 - val_loss: 1.0616\n",
      "Epoch 45/50\n",
      "9/9 [==============================] - 2s 180ms/step - loss: 0.7935 - val_loss: 1.0414\n",
      "Epoch 46/50\n",
      "9/9 [==============================] - 2s 178ms/step - loss: 0.7777 - val_loss: 1.0296\n",
      "Epoch 47/50\n",
      "9/9 [==============================] - 2s 195ms/step - loss: 0.7555 - val_loss: 1.0208\n",
      "Epoch 48/50\n",
      "9/9 [==============================] - 2s 198ms/step - loss: 0.7377 - val_loss: 1.0205\n",
      "Epoch 49/50\n",
      "9/9 [==============================] - 2s 207ms/step - loss: 0.7216 - val_loss: 1.0095\n",
      "Epoch 50/50\n",
      "9/9 [==============================] - 2s 191ms/step - loss: 0.7071 - val_loss: 1.0098\n"
     ]
    }
   ],
   "source": [
    "history = model.fit(\n",
    "    [encoder_input_train, decoder_input_train],\n",
    "    decoder_target_train,\n",
    "    batch_size=64,\n",
    "    epochs=50,\n",
    "    validation_data=([encoder_input_val, decoder_input_val], decoder_target_val),\n",
    "    callbacks=[early_stopping]\n",
    ")\n"
   ]
  },
  {
   "cell_type": "markdown",
   "metadata": {},
   "source": [
    "## Plot Training History"
   ]
  },
  {
   "cell_type": "code",
   "execution_count": 120,
   "metadata": {},
   "outputs": [
    {
     "data": {
      "image/png": "[encoded data removed]",
      "text/plain": [
       "<Figure size 800x600 with 1 Axes>"
      ]
     },
     "metadata": {},
     "output_type": "display_data"
    }
   ],
   "source": [
    "# Plot training & validation loss\n",
    "plt.figure(figsize=(8, 6))\n",
    "plt.plot(history.history['loss'], label='Training Loss')\n",
    "plt.plot(history.history['val_loss'], label='Validation Loss')\n",
    "plt.title('Model Loss')\n",
    "plt.xlabel('Epoch')\n",
    "plt.ylabel('Loss')\n",
    "plt.legend()\n",
    "plt.show()\n"
   ]
  },
  {
   "cell_type": "markdown",
   "metadata": {},
   "source": [
    " ## Build Inference Models"
   ]
  },
  {
   "cell_type": "markdown",
   "metadata": {},
   "source": [
    "## Encoder Model for Inference"
   ]
  },
  {
   "cell_type": "code",
   "execution_count": 121,
   "metadata": {},
   "outputs": [],
   "source": [
    "encoder_model = Model(encoder_inputs, [encoder_outputs, state_h, state_c])\n"
   ]
  },
  {
   "cell_type": "markdown",
   "metadata": {},
   "source": [
    "## Decoder Model for Inference"
   ]
  },
  {
   "cell_type": "code",
   "execution_count": 122,
   "metadata": {},
   "outputs": [],
   "source": [
    "# Decoder inputs for inference\n",
    "decoder_state_input_h = Input(\n",
    "    shape=(lstm_units,), name='decoder_state_input_h'\n",
    ")\n",
    "decoder_state_input_c = Input(\n",
    "    shape=(lstm_units,), name='decoder_state_input_c'\n",
    ")\n",
    "decoder_hidden_state_input = Input(\n",
    "    shape=(None, lstm_units), name='encoder_outputs'\n",
    ")\n",
    "\n",
    "# Use the same embedding layer as in training\n",
    "dec_emb2 = decoder_embedding_layer(decoder_inputs)\n",
    "dec_emb2 = Dropout(0.2)(dec_emb2)  # Apply dropout if used in training\n",
    "\n",
    "# Set initial states to states from previous time step\n",
    "decoder_outputs2, state_h2, state_c2 = decoder_lstm(\n",
    "    dec_emb2, initial_state=[decoder_state_input_h, decoder_state_input_c]\n",
    ")\n",
    "\n",
    "# Apply attention\n",
    "context_vector = attention_layer([decoder_outputs2, decoder_hidden_state_input])\n",
    "\n",
    "# Concatenate context vector and decoder outputs\n",
    "decoder_combined_context = Concatenate(\n",
    "    axis=-1, name='concat_layer'\n",
    ")([context_vector, decoder_outputs2])\n",
    "\n",
    "# Final output layer\n",
    "decoder_outputs2 = decoder_dense(decoder_combined_context)\n",
    "\n",
    "# Final decoder model\n",
    "decoder_model = Model(\n",
    "    [\n",
    "        decoder_inputs,\n",
    "        decoder_hidden_state_input,\n",
    "        decoder_state_input_h,\n",
    "        decoder_state_input_c\n",
    "    ],\n",
    "    [decoder_outputs2, state_h2, state_c2]\n",
    ")\n"
   ]
  },
  {
   "cell_type": "markdown",
   "metadata": {},
   "source": [
    "## Create Reverse Word Index"
   ]
  },
  {
   "cell_type": "code",
   "execution_count": 123,
   "metadata": {},
   "outputs": [],
   "source": [
    "reverse_input_word_index = {\n",
    "    i: word for word, i in input_word_index.items()\n",
    "}\n",
    "reverse_target_word_index = {\n",
    "    i: word for word, i in target_word_index.items()\n",
    "}\n",
    "target_word_index = target_tokenizer.word_index\n"
   ]
  },
  {
   "cell_type": "markdown",
   "metadata": {},
   "source": [
    "## Define Decoding Function"
   ]
  },
  {
   "cell_type": "code",
   "execution_count": 126,
   "metadata": {},
   "outputs": [],
   "source": [
    "def decode_sequence(input_seq):\n",
    "    # Encode the input as state vectors.\n",
    "    encoder_outputs_val, state_h_val, state_c_val = encoder_model.predict(\n",
    "        input_seq\n",
    "    )\n",
    "\n",
    "    # Generate empty target sequence of length 1 with only the start token.\n",
    "    target_seq = np.array([[target_word_index['<start>']]])\n",
    "\n",
    "    # Initialize states\n",
    "    stop_condition = False\n",
    "    decoded_sentence = ''\n",
    "    while not stop_condition:\n",
    "        output_tokens, h, c = decoder_model.predict(\n",
    "            [\n",
    "                target_seq,\n",
    "                encoder_outputs_val,\n",
    "                state_h_val,\n",
    "                state_c_val\n",
    "            ]\n",
    "        )\n",
    "\n",
    "        # Sample a token\n",
    "        sampled_token_index = np.argmax(output_tokens[0, -1, :])\n",
    "        sampled_word = reverse_target_word_index.get(\n",
    "            sampled_token_index, ''\n",
    "        )\n",
    "\n",
    "        # Exit condition: either hit max length or find stop token.\n",
    "        if (\n",
    "            sampled_word == '<end>' or\n",
    "            len(decoded_sentence.split()) >= max_decoder_seq_length\n",
    "        ):\n",
    "            stop_condition = True\n",
    "        else:\n",
    "            decoded_sentence += ' ' + sampled_word\n",
    "\n",
    "        # Update the target sequence (length 1).\n",
    "        target_seq = np.array([[sampled_token_index]])\n",
    "\n",
    "        # Update states\n",
    "        state_h_val, state_c_val = h, c\n",
    "\n",
    "    return decoded_sentence.strip()\n"
   ]
  },
  {
   "cell_type": "markdown",
   "metadata": {},
   "source": [
    "## Evaluate the Model"
   ]
  },
  {
   "cell_type": "code",
   "execution_count": 128,
   "metadata": {},
   "outputs": [
    {
     "name": "stdout",
     "output_type": "stream",
     "text": [
      "1/1 [==============================] - 0s 19ms/step\n",
      "1/1 [==============================] - 0s 22ms/step\n",
      "1/1 [==============================] - 0s 22ms/step\n",
      "1/1 [==============================] - 0s 22ms/step\n",
      "1/1 [==============================] - 0s 21ms/step\n",
      "1/1 [==============================] - 0s 19ms/step\n",
      "1/1 [==============================] - 0s 21ms/step\n",
      "1/1 [==============================] - 0s 23ms/step\n",
      "1/1 [==============================] - 0s 26ms/step\n",
      "1/1 [==============================] - 0s 23ms/step\n",
      "1/1 [==============================] - 0s 22ms/step\n",
      "1/1 [==============================] - 0s 21ms/step\n",
      "Input (Hausa): yan bindiga sun sace mai jego a jihar jigawa ƙarin bayani\n",
      "Actual Translation: gunmen abduct mother in jigawa state\n",
      "Predicted Translation: gunmen kill man and burn sacks of maize in kaduna\n",
      "--------------------------------------------------\n",
      "1/1 [==============================] - 0s 19ms/step\n",
      "1/1 [==============================] - 0s 21ms/step\n",
      "1/1 [==============================] - 0s 19ms/step\n",
      "1/1 [==============================] - 0s 20ms/step\n",
      "Input (Hausa): hasbunallah\n",
      "Actual Translation: hasbunallah\n",
      "Predicted Translation: god bless\n",
      "--------------------------------------------------\n",
      "1/1 [==============================] - 0s 17ms/step\n",
      "1/1 [==============================] - 0s 18ms/step\n",
      "1/1 [==============================] - 0s 20ms/step\n",
      "1/1 [==============================] - 0s 20ms/step\n",
      "1/1 [==============================] - 0s 20ms/step\n",
      "Input (Hausa): tsiren ma seyafi kaiwa\n",
      "Actual Translation: tsiren ma seyafi kai\n",
      "Predicted Translation: god bless him\n",
      "--------------------------------------------------\n",
      "1/1 [==============================] - 0s 19ms/step\n",
      "1/1 [==============================] - 0s 26ms/step\n",
      "1/1 [==============================] - 0s 23ms/step\n",
      "1/1 [==============================] - 0s 19ms/step\n",
      "1/1 [==============================] - 0s 20ms/step\n",
      "Input (Hausa): allah ya jiqansa da rahama\n",
      "Actual Translation: may allah have mercy on him\n",
      "Predicted Translation: god bless him\n",
      "--------------------------------------------------\n",
      "1/1 [==============================] - 0s 19ms/step\n",
      "1/1 [==============================] - 0s 20ms/step\n",
      "1/1 [==============================] - 0s 22ms/step\n",
      "1/1 [==============================] - 0s 20ms/step\n",
      "1/1 [==============================] - 0s 20ms/step\n",
      "Input (Hausa): allah ya jiqansa da rahama\n",
      "Actual Translation: may allah have mercy on him\n",
      "Predicted Translation: god bless him\n",
      "--------------------------------------------------\n",
      "1/1 [==============================] - 0s 17ms/step\n",
      "1/1 [==============================] - 0s 19ms/step\n",
      "1/1 [==============================] - 0s 20ms/step\n",
      "1/1 [==============================] - 0s 20ms/step\n",
      "1/1 [==============================] - 0s 22ms/step\n",
      "Input (Hausa): allah ya kara tsaremu\n",
      "Actual Translation: god has further protected us\n",
      "Predicted Translation: god bless him\n",
      "--------------------------------------------------\n",
      "1/1 [==============================] - 0s 18ms/step\n",
      "1/1 [==============================] - 0s 20ms/step\n",
      "1/1 [==============================] - 0s 20ms/step\n",
      "1/1 [==============================] - 0s 21ms/step\n",
      "1/1 [==============================] - 0s 19ms/step\n",
      "1/1 [==============================] - 0s 20ms/step\n",
      "1/1 [==============================] - 0s 21ms/step\n",
      "1/1 [==============================] - 0s 19ms/step\n",
      "1/1 [==============================] - 0s 21ms/step\n",
      "1/1 [==============================] - 0s 18ms/step\n",
      "Input (Hausa): gaskiya hakan bai kamataba wllh a matsayinsa na musulmi\n",
      "Actual Translation: in fact this should not be the case as a muslim\n",
      "Predicted Translation: may allah suffice this this to will us\n",
      "--------------------------------------------------\n",
      "1/1 [==============================] - 0s 18ms/step\n",
      "1/1 [==============================] - 0s 19ms/step\n",
      "1/1 [==============================] - 0s 19ms/step\n",
      "1/1 [==============================] - 0s 20ms/step\n",
      "1/1 [==============================] - 0s 20ms/step\n",
      "1/1 [==============================] - 0s 23ms/step\n",
      "1/1 [==============================] - 0s 24ms/step\n",
      "1/1 [==============================] - 0s 25ms/step\n",
      "1/1 [==============================] - 0s 23ms/step\n",
      "1/1 [==============================] - 0s 25ms/step\n",
      "1/1 [==============================] - 0s 23ms/step\n",
      "1/1 [==============================] - 0s 21ms/step\n",
      "1/1 [==============================] - 0s 22ms/step\n",
      "1/1 [==============================] - 0s 22ms/step\n",
      "Input (Hausa): korona ta yi ajalin jagoran ƴan adawan mali soumaila cisse\n",
      "Actual Translation: korona kills malis opposition leader soumaila cisse\n",
      "Predicted Translation: god has is the the fifa been of cornerstone of the queen\n",
      "--------------------------------------------------\n",
      "1/1 [==============================] - 0s 21ms/step\n",
      "1/1 [==============================] - 0s 22ms/step\n",
      "1/1 [==============================] - 0s 27ms/step\n",
      "1/1 [==============================] - 0s 21ms/step\n",
      "1/1 [==============================] - 0s 25ms/step\n",
      "Input (Hausa): allah wadai\n",
      "Actual Translation: god is the valley\n",
      "Predicted Translation: god bless him\n",
      "--------------------------------------------------\n",
      "1/1 [==============================] - 0s 19ms/step\n",
      "1/1 [==============================] - 0s 23ms/step\n",
      "1/1 [==============================] - 0s 21ms/step\n",
      "1/1 [==============================] - 0s 22ms/step\n",
      "1/1 [==============================] - 0s 20ms/step\n",
      "1/1 [==============================] - 0s 23ms/step\n",
      "1/1 [==============================] - 0s 21ms/step\n",
      "1/1 [==============================] - 0s 21ms/step\n",
      "1/1 [==============================] - 0s 21ms/step\n",
      "1/1 [==============================] - 0s 24ms/step\n",
      "1/1 [==============================] - 0s 26ms/step\n",
      "1/1 [==============================] - 0s 22ms/step\n",
      "1/1 [==============================] - 0s 22ms/step\n",
      "1/1 [==============================] - 0s 23ms/step\n",
      "1/1 [==============================] - 0s 22ms/step\n",
      "1/1 [==============================] - 0s 21ms/step\n",
      "1/1 [==============================] - 0s 22ms/step\n",
      "1/1 [==============================] - 0s 21ms/step\n",
      "1/1 [==============================] - 0s 21ms/step\n",
      "Input (Hausa): babban malamin addinin muslunci sheikh ahmed lemu ya rasu da safiyar yau alhamis a birnin minna na jihar neja fr…\n",
      "Actual Translation: sheikh ahmed lemu a prominent islamic cleric passed away on thursday morning in minna niger state fr…\n",
      "Predicted Translation: sheikh ahmed lemu a prominent islamic cleric passed away on thursday morning in minna niger state fr…\n",
      "--------------------------------------------------\n"
     ]
    }
   ],
   "source": [
    "for idx in range(10):\n",
    "    # Get the actual index in the original data\n",
    "    val_idx = val_indices[idx]\n",
    "    \n",
    "    # Take one sequence from the validation set\n",
    "    input_seq = encoder_input_val[idx:idx+1]\n",
    "    decoded_sentence = decode_sequence(input_seq)\n",
    "    \n",
    "    # Get the corresponding input sentence and actual translation\n",
    "    input_sentence = input_texts[val_idx]\n",
    "    actual_translation = target_texts[val_idx][8:-6]  # Remove <start> and <end>\n",
    "    \n",
    "    print(f\"Input (Hausa): {input_sentence}\")\n",
    "    print(f\"Actual Translation: {actual_translation}\")\n",
    "    print(f\"Predicted Translation: {decoded_sentence}\")\n",
    "    print(\"-\" * 50)\n"
   ]
  }
 ],
 "metadata": {
  "kernelspec": {
   "display_name": "Python 3",
   "language": "python",
   "name": "python3"
  },
  "language_info": {
   "codemirror_mode": {
    "name": "ipython",
    "version": 3
   },
   "file_extension": ".py",
   "mimetype": "text/x-python",
   "name": "python",
   "nbconvert_exporter": "python",
   "pygments_lexer": "ipython3",
   "version": "3.11.4"
  }
 },
 "nbformat": 4,
 "nbformat_minor": 2
}
